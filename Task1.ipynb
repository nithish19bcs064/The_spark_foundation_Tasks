{
  "nbformat": 4,
  "nbformat_minor": 0,
  "metadata": {
    "colab": {
      "name": "Task1.ipynb",
      "provenance": [],
      "collapsed_sections": [
        "-ThLfxJrfWTj",
        "_-e-A6N5BUIC",
        "PtHGXnyrWZWW",
        "j3L6wetlXSRK",
        "eF-pakRDYS8N",
        "_52ynnvGcNlx",
        "WqQCxAXOBs5P"
      ]
    },
    "kernelspec": {
      "name": "python3",
      "display_name": "Python 3"
    },
    "language_info": {
      "name": "python"
    }
  },
  "cells": [
    {
      "cell_type": "markdown",
      "metadata": {
        "id": "-ThLfxJrfWTj"
      },
      "source": [
        "\n",
        "#GRIP : The Spark Foundation ( Data Science and Business Analytics Intern )\n",
        "###Author :Nithish Kumar S \n",
        "\n",
        "Prediction using Supervised ML\n",
        "(Level - Beginner)\n",
        "● Predict the percentage of an student based on the no. of study hours.\n",
        "● This is a simple linear regression task as it involves just 2 variables.\n",
        "● You can use R, Python, SAS Enterprise Miner or any other tool\n",
        "● Data can be found at http://bit.ly/w-data\n",
        "● What will be predicted score if a student studies for 9.25 hrs/ day?\n",
        "● Sample Solution : https://bit.ly/2HxiGGJ\n",
        "\n",
        "Supervised machine learningis a type of machine learning in which the machine is fed the training data which is labelled. Supervised machine learning is further categorized into regression and classification\n",
        "Linear regression is probably the simplest approach for statistical learning. It is a good starting point for more advanced approaches, and in fact, many fancy statistical learning techniques can be seen as an extension of linear regression. Therefore, understanding this simple model will build a good base before moving on to more complex approaches.Output type- continuous (number)"
      ]
    },
    {
      "cell_type": "code",
      "metadata": {
        "id": "H-0Tqs_ZENMb"
      },
      "source": [
        "# Importing All the Necessary Libraries\n",
        "import numpy as np\n",
        "import pandas as pd\n",
        "import matplotlib.pyplot as plt"
      ],
      "execution_count": 173,
      "outputs": []
    },
    {
      "cell_type": "code",
      "metadata": {
        "id": "Smg8EONzEZuT"
      },
      "source": [
        "#importing the dataset\n",
        "df=pd.read_csv('https://raw.githubusercontent.com/AdiPersonalWorks/Random/master/student_scores%20-%20student_scores.csv')"
      ],
      "execution_count": 174,
      "outputs": []
    },
    {
      "cell_type": "code",
      "metadata": {
        "colab": {
          "base_uri": "https://localhost:8080/",
          "height": 202
        },
        "id": "BjZofDePEb0x",
        "outputId": "ce2072d6-16c9-4c50-d608-2342af924d3a"
      },
      "source": [
        "#Displaying the dataset(first 5 rows)\n",
        "df.head()"
      ],
      "execution_count": 175,
      "outputs": [
        {
          "output_type": "execute_result",
          "data": {
            "text/html": [
              "<div>\n",
              "<style scoped>\n",
              "    .dataframe tbody tr th:only-of-type {\n",
              "        vertical-align: middle;\n",
              "    }\n",
              "\n",
              "    .dataframe tbody tr th {\n",
              "        vertical-align: top;\n",
              "    }\n",
              "\n",
              "    .dataframe thead th {\n",
              "        text-align: right;\n",
              "    }\n",
              "</style>\n",
              "<table border=\"1\" class=\"dataframe\">\n",
              "  <thead>\n",
              "    <tr style=\"text-align: right;\">\n",
              "      <th></th>\n",
              "      <th>Hours</th>\n",
              "      <th>Scores</th>\n",
              "    </tr>\n",
              "  </thead>\n",
              "  <tbody>\n",
              "    <tr>\n",
              "      <th>0</th>\n",
              "      <td>2.5</td>\n",
              "      <td>21</td>\n",
              "    </tr>\n",
              "    <tr>\n",
              "      <th>1</th>\n",
              "      <td>5.1</td>\n",
              "      <td>47</td>\n",
              "    </tr>\n",
              "    <tr>\n",
              "      <th>2</th>\n",
              "      <td>3.2</td>\n",
              "      <td>27</td>\n",
              "    </tr>\n",
              "    <tr>\n",
              "      <th>3</th>\n",
              "      <td>8.5</td>\n",
              "      <td>75</td>\n",
              "    </tr>\n",
              "    <tr>\n",
              "      <th>4</th>\n",
              "      <td>3.5</td>\n",
              "      <td>30</td>\n",
              "    </tr>\n",
              "  </tbody>\n",
              "</table>\n",
              "</div>"
            ],
            "text/plain": [
              "   Hours  Scores\n",
              "0    2.5      21\n",
              "1    5.1      47\n",
              "2    3.2      27\n",
              "3    8.5      75\n",
              "4    3.5      30"
            ]
          },
          "metadata": {
            "tags": []
          },
          "execution_count": 175
        }
      ]
    },
    {
      "cell_type": "markdown",
      "metadata": {
        "id": "_-e-A6N5BUIC"
      },
      "source": [
        "#Plotting the Graph"
      ]
    },
    {
      "cell_type": "code",
      "metadata": {
        "colab": {
          "base_uri": "https://localhost:8080/",
          "height": 279
        },
        "id": "KxUsb5vBV-J9",
        "outputId": "f05302a9-5d62-4dc2-e97a-22b63282920f"
      },
      "source": [
        "plt.xlabel('Hours')\n",
        "plt.ylabel('Scores')\n",
        "plt.scatter(df[\"Hours\"],df['Scores'])\n",
        "plt.show()"
      ],
      "execution_count": 176,
      "outputs": [
        {
          "output_type": "display_data",
          "data": {
            "image/png": "[encoded data removed]",
            "text/plain": [
              "<Figure size 432x288 with 1 Axes>"
            ]
          },
          "metadata": {
            "tags": [],
            "needs_background": "light"
          }
        }
      ]
    },
    {
      "cell_type": "markdown",
      "metadata": {
        "id": "w0NA-KKQWBM5"
      },
      "source": [
        "The Graph has linear Growth So we can apply Linear Regression function for prediction\n"
      ]
    },
    {
      "cell_type": "code",
      "metadata": {
        "colab": {
          "base_uri": "https://localhost:8080/"
        },
        "id": "soPnOYU8Eib4",
        "outputId": "1e5df835-d225-4db0-9af6-be90f0e17d88"
      },
      "source": [
        "#Checking Any Null Values\n",
        "df.isnull().sum()"
      ],
      "execution_count": 177,
      "outputs": [
        {
          "output_type": "execute_result",
          "data": {
            "text/plain": [
              "Hours     0\n",
              "Scores    0\n",
              "dtype: int64"
            ]
          },
          "metadata": {
            "tags": []
          },
          "execution_count": 177
        }
      ]
    },
    {
      "cell_type": "markdown",
      "metadata": {
        "id": "PtHGXnyrWZWW"
      },
      "source": [
        "#Now we are Splitting the dataframe into independent and dependent variables\n",
        "Diving Dataset into Features inputs and labels outputs"
      ]
    },
    {
      "cell_type": "code",
      "metadata": {
        "id": "JE-orSp3Eoeo"
      },
      "source": [
        "#Now Spliting the Hours as x variable \n",
        "x=df.iloc[:,0:1].values"
      ],
      "execution_count": 178,
      "outputs": []
    },
    {
      "cell_type": "code",
      "metadata": {
        "colab": {
          "base_uri": "https://localhost:8080/"
        },
        "id": "Vz9bLvMsEvSU",
        "outputId": "2befea77-88d0-4d86-ca2e-e78105b5461e"
      },
      "source": [
        "x.shape"
      ],
      "execution_count": 179,
      "outputs": [
        {
          "output_type": "execute_result",
          "data": {
            "text/plain": [
              "(25, 1)"
            ]
          },
          "metadata": {
            "tags": []
          },
          "execution_count": 179
        }
      ]
    },
    {
      "cell_type": "code",
      "metadata": {
        "id": "uHJP9BWbEeqX"
      },
      "source": [
        "#Now Splitting the Marks as y variable\n",
        "y=df.iloc[:,1:].values"
      ],
      "execution_count": 180,
      "outputs": []
    },
    {
      "cell_type": "code",
      "metadata": {
        "colab": {
          "base_uri": "https://localhost:8080/"
        },
        "id": "XxUvX7beE24r",
        "outputId": "c171e159-7310-4d7d-d843-541911ce69ad"
      },
      "source": [
        "y.shape"
      ],
      "execution_count": 181,
      "outputs": [
        {
          "output_type": "execute_result",
          "data": {
            "text/plain": [
              "(25, 1)"
            ]
          },
          "metadata": {
            "tags": []
          },
          "execution_count": 181
        }
      ]
    },
    {
      "cell_type": "markdown",
      "metadata": {
        "id": "j3L6wetlXSRK"
      },
      "source": [
        "# Now we are going to train and test the x and y variables using train_test_split"
      ]
    },
    {
      "cell_type": "code",
      "metadata": {
        "id": "fQ3xsdFkE5Uy"
      },
      "source": [
        "from sklearn.model_selection import train_test_split"
      ],
      "execution_count": 182,
      "outputs": []
    },
    {
      "cell_type": "code",
      "metadata": {
        "id": "en5JArQAFNSM"
      },
      "source": [
        "#Splitting the Data frame to train and test model\n",
        "#test size 20-30 %  Train 70-80 % \n",
        "xtrain,xtest,ytrain,ytest=train_test_split(x,y,test_size=0.20,random_state=0)"
      ],
      "execution_count": 183,
      "outputs": []
    },
    {
      "cell_type": "code",
      "metadata": {
        "colab": {
          "base_uri": "https://localhost:8080/"
        },
        "id": "YuSw3QgaFqlA",
        "outputId": "893cd5f8-4c82-4902-aa64-01306d63d248"
      },
      "source": [
        "print(len(xtrain))\n",
        "print(len(ytrain))\n",
        "print(len(xtest))\n",
        "print(len(ytest))     # Length of the test and train model"
      ],
      "execution_count": 184,
      "outputs": [
        {
          "output_type": "stream",
          "text": [
            "20\n",
            "20\n",
            "5\n",
            "5\n"
          ],
          "name": "stdout"
        }
      ]
    },
    {
      "cell_type": "code",
      "metadata": {
        "colab": {
          "base_uri": "https://localhost:8080/"
        },
        "id": "j-Fn3NyyL5fC",
        "outputId": "a855b3fe-fa9b-4697-ece1-8d7b9a8f0ce1"
      },
      "source": [
        "print(xtrain.shape)\n",
        "print(ytrain.shape)"
      ],
      "execution_count": 185,
      "outputs": [
        {
          "output_type": "stream",
          "text": [
            "(20, 1)\n",
            "(20, 1)\n"
          ],
          "name": "stdout"
        }
      ]
    },
    {
      "cell_type": "code",
      "metadata": {
        "id": "r2cETlX4G8Mh"
      },
      "source": [
        "from sklearn.linear_model import LinearRegression"
      ],
      "execution_count": 186,
      "outputs": []
    },
    {
      "cell_type": "code",
      "metadata": {
        "id": "WHUhGMzOHJLt"
      },
      "source": [
        "lr=LinearRegression()"
      ],
      "execution_count": 187,
      "outputs": []
    },
    {
      "cell_type": "markdown",
      "metadata": {
        "id": "rP0WwDdpX0fn"
      },
      "source": [
        "Now we are traing the x and y model"
      ]
    },
    {
      "cell_type": "code",
      "metadata": {
        "colab": {
          "base_uri": "https://localhost:8080/"
        },
        "id": "WdE_XISLLAJI",
        "outputId": "dabd1697-1d84-4eb3-aff4-8c61d0fcec76"
      },
      "source": [
        "lr.fit(xtrain,ytrain)"
      ],
      "execution_count": 188,
      "outputs": [
        {
          "output_type": "execute_result",
          "data": {
            "text/plain": [
              "LinearRegression(copy_X=True, fit_intercept=True, n_jobs=None, normalize=False)"
            ]
          },
          "metadata": {
            "tags": []
          },
          "execution_count": 188
        }
      ]
    },
    {
      "cell_type": "markdown",
      "metadata": {
        "id": "Ne8-ydWrX965"
      },
      "source": [
        "Assign a variable and predict with linear reg with test model of x"
      ]
    },
    {
      "cell_type": "code",
      "metadata": {
        "id": "2QLjNys0OB_7"
      },
      "source": [
        "ypred=lr.predict(xtest) "
      ],
      "execution_count": 189,
      "outputs": []
    },
    {
      "cell_type": "markdown",
      "metadata": {
        "id": "eF-pakRDYS8N"
      },
      "source": [
        "# Now plotting the  train model with regression line"
      ]
    },
    {
      "cell_type": "code",
      "metadata": {
        "colab": {
          "base_uri": "https://localhost:8080/",
          "height": 282
        },
        "id": "BwLYnaonOK3G",
        "outputId": "c9aa47d3-87d7-4be5-f886-580fdcf38309"
      },
      "source": [
        "plt.scatter(x,y)\n",
        "plt.plot(xtrain,lr.predict(xtrain))"
      ],
      "execution_count": 190,
      "outputs": [
        {
          "output_type": "execute_result",
          "data": {
            "text/plain": [
              "[<matplotlib.lines.Line2D at 0x7f48ae463310>]"
            ]
          },
          "metadata": {
            "tags": []
          },
          "execution_count": 190
        },
        {
          "output_type": "display_data",
          "data": {
            "image/png": "[encoded data removed]",
            "text/plain": [
              "<Figure size 432x288 with 1 Axes>"
            ]
          },
          "metadata": {
            "tags": [],
            "needs_background": "light"
          }
        }
      ]
    },
    {
      "cell_type": "markdown",
      "metadata": {
        "id": "XOb5RXFzYmaD"
      },
      "source": [
        "Now plotting the test model with regresion line"
      ]
    },
    {
      "cell_type": "code",
      "metadata": {
        "colab": {
          "base_uri": "https://localhost:8080/"
        },
        "id": "T9z4yy29Rr85",
        "outputId": "cfb665e3-95f9-4c5b-91ea-f3695b3efe93"
      },
      "source": [
        "#printing the coefficient\n",
        "#intercept\n",
        "print(lr.coef_)\n",
        "print(lr.intercept_)"
      ],
      "execution_count": 191,
      "outputs": [
        {
          "output_type": "stream",
          "text": [
            "[[9.91065648]]\n",
            "[2.01816004]\n"
          ],
          "name": "stdout"
        }
      ]
    },
    {
      "cell_type": "code",
      "metadata": {
        "id": "WdzxWdeVQil_"
      },
      "source": [
        "# Compaing the Scores Actual vs Predicted "
      ],
      "execution_count": 192,
      "outputs": []
    },
    {
      "cell_type": "code",
      "metadata": {
        "colab": {
          "base_uri": "https://localhost:8080/"
        },
        "id": "dWnV9ot8Qpd1",
        "outputId": "3555c522-daa7-43dc-d526-d01862c18b20"
      },
      "source": [
        "list(zip(ytest,ypred))# returns only 5 values as we have only 20 % of data is alloted for test model"
      ],
      "execution_count": 193,
      "outputs": [
        {
          "output_type": "execute_result",
          "data": {
            "text/plain": [
              "[(array([20]), array([16.88414476])),\n",
              " (array([27]), array([33.73226078])),\n",
              " (array([69]), array([75.357018])),\n",
              " (array([30]), array([26.79480124])),\n",
              " (array([62]), array([60.49103328]))]"
            ]
          },
          "metadata": {
            "tags": []
          },
          "execution_count": 193
        }
      ]
    },
    {
      "cell_type": "code",
      "metadata": {
        "colab": {
          "base_uri": "https://localhost:8080/"
        },
        "id": "5EmjW6HJQuL1",
        "outputId": "542ef95b-6c34-4d6d-fbaa-6b815695e2c3"
      },
      "source": [
        "from sklearn.metrics import mean_squared_error\n",
        "mean_squared_error(ytest,ypred,squared=False)\n",
        "# Finding the root mean square Value"
      ],
      "execution_count": 194,
      "outputs": [
        {
          "output_type": "execute_result",
          "data": {
            "text/plain": [
              "4.647447612100373"
            ]
          },
          "metadata": {
            "tags": []
          },
          "execution_count": 194
        }
      ]
    },
    {
      "cell_type": "markdown",
      "metadata": {
        "id": "_52ynnvGcNlx"
      },
      "source": [
        "#Printing the Marks Based on study Hours"
      ]
    },
    {
      "cell_type": "code",
      "metadata": {
        "id": "hPTEp96TQzZy",
        "colab": {
          "base_uri": "https://localhost:8080/"
        },
        "outputId": "47aaa2c3-9e61-4e17-d47e-509ef5b9a595"
      },
      "source": [
        "how_many_hour=[9.25]\n",
        "my_prd=lr.predict([how_many_hour])\n",
        "print(\"He/She will be Securing \",my_prd,\"Marks \\nIf He/She studies for \",how_many_hour,\"hours\")\n"
      ],
      "execution_count": 195,
      "outputs": [
        {
          "output_type": "stream",
          "text": [
            "He/She will be Securing  [[93.69173249]] Marks \n",
            "If He/She studies for  [9.25] hours\n"
          ],
          "name": "stdout"
        }
      ]
    },
    {
      "cell_type": "markdown",
      "metadata": {
        "id": "WqQCxAXOBs5P"
      },
      "source": [
        "#Printing the accuracy rate"
      ]
    },
    {
      "cell_type": "code",
      "metadata": {
        "colab": {
          "base_uri": "https://localhost:8080/"
        },
        "id": "eNXkGG9xAKin",
        "outputId": "20754c8a-378a-40b7-cc28-ec22d8e08a4f"
      },
      "source": [
        "\n",
        "print(\"R^2 Accuracy: \", lr.score(xtest, ytest))"
      ],
      "execution_count": 196,
      "outputs": [
        {
          "output_type": "stream",
          "text": [
            "R^2 Accuracy:  0.9454906892105354\n"
          ],
          "name": "stdout"
        }
      ]
    }
  ]
}